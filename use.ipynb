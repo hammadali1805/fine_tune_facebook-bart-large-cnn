{
 "cells": [
  {
   "cell_type": "code",
   "execution_count": 1,
   "metadata": {},
   "outputs": [],
   "source": [
    "from peft import PeftModel, PeftConfig\n",
    "from transformers import AutoModelForSeq2SeqLM, AutoTokenizer\n",
    "\n",
    "# Load the PEFT configuration\n",
    "config = PeftConfig.from_pretrained(\"hammadali1805/legal_bart_large_cnn\")\n",
    "\n",
    "# Load the base T5 model\n",
    "base_model = AutoModelForSeq2SeqLM.from_pretrained(\"facebook/bart-large-cnn\")\n",
    "\n",
    "# Load the PEFT model\n",
    "model = PeftModel.from_pretrained(base_model, \"hammadali1805/legal_bart_large_cnn\")\n",
    "\n",
    "# Load the tokenizer\n",
    "tokenizer = AutoTokenizer.from_pretrained(\"hammadali1805/legal_bart_large_cnn\")"
   ]
  },
  {
   "cell_type": "code",
   "execution_count": 2,
   "metadata": {},
   "outputs": [],
   "source": [
    "# Function to summarize text\n",
    "def summarize(text, max_length=512, min_length=30, num_beams=2):\n",
    "    # Prepare the text\n",
    "    input_ids = tokenizer.encode(text, return_tensors=\"pt\", max_length=512, truncation=True)\n",
    "    \n",
    "    # Use the underlying model's generate method\n",
    "    summary_ids = model.base_model.generate(input_ids, num_beams=num_beams, length_penalty=2.0, early_stopping=True)\n",
    "    \n",
    "    # Decode the summary\n",
    "    summary = tokenizer.decode(summary_ids[0], skip_special_tokens=True)\n",
    "    \n",
    "    return summary"
   ]
  },
  {
   "cell_type": "code",
   "execution_count": 3,
   "metadata": {},
   "outputs": [
    {
     "name": "stdout",
     "output_type": "stream",
     "text": [
      "Summary: The President has the power in an appropriate case to commute any sentence imposed by a court into a lesser sentence. The question as to whether the case is appropriate for the exercise of the power conferred by article 72 depends upon the facts and circumstances of each particular case. The necessity or the justification for exercising that power has therefore to be judged from case to case. We do not see what useful purpose will be achieved by the petitioner by ensuring the imposition of any severe, judicially evolved constraints on the sentence of death imposed upon him.\n"
     ]
    }
   ],
   "source": [
    "# Example usage\n",
    "text = \"\"\"\n",
    "tition (Crl.) No. 8193A of 1981. (Under Article 32 of the Constitution of India) R. K Garg, V. J. Francis, Sunil Kumar Jain and D. K Garg for the Petitioner Ranga 59 R. K. Jain and P K. Jain for the Petitioner Billa. N. C. Talukdar and R. N. Poddar for Respondent No. 1. L. N. Sinha, Attorney General and Miss A. Subhashini for Attorney General. K. Parasaran, Solicitor General, M. K. Banerji, Additional Solicitor General and Miss A. Subhashini for Union of India. N. Nettar for the State of Karnataka. Raju Ramachandran for Applicant/intervener Chhaganlal Aggarwal. The Judgment of the Court was delivered by CHANDRACHUD C. J. The question as regards the scope of the power of the President under article 72 of the Constitution to commute a sentence of death into a lesser sentence may have to await examination on an appropriate occasion. This clearly is not that occasion because in so far as this case is concerned, whatever be the guidelines observed for the exercise of the power conferred by article 72, the only sentence which can possibly be imposed upon the petitioner is that of death and no circumstances exist for interference with that sentence. Therefore we see no justification for saying that in refusing to commute the sentence of death imposed upon the petitioner into a lesser sentence, the President has in any manner transgressed his discretionary power under article 72. Undoubtedly, the President has the power in an appropriate case to commute any sentence imposed by a court into a lesser sentence and as said by Chief Justice Taft in James Shewan & Sons v United States, the \"executive clemency exists to afford relief from undue harshness or evident mistake in the operation or enforcement of the criminal law\" and that the administration of justice by the courts is not necessarily or certainly considerate of circumstances which may properly mitigate guilt. But the question as to whether the case is appropriate for the exercise of the power conferred by Article 72 depends upon the facts and circumstances of each particular case. The necessity or the justification for exercising that power has therefore to be judged from case to case. In fact, we do not see what useful purpose will be achieved by the petitioner by 60 ensuring the imposition of any severe, judicially evolved constraints on the wholesome power of the President to use it as the justice of a case may require. After all, the power conferred by Article 72 can be used only for the purpose of reducing the sentence, not for enhancing it. We need not, however, go into that question elaborately because in so far as this case is concerned, we are quite clear that not even the most liberal use of his mercy jurisdiction could have persuaded the President to interfere with the sentence of death imposed upon the petitioner, in view particularly of the considerations mentioned by us in our judgment in Kuljeet Singh @ Ranga vs Union of India & Anr. We may recall what we said in that judgment that \"the death of the Chopra children was caused by the petitioner and his companion Billa after a savage planning which bears a professional stamp\", that the \"survival of an orderly society demands the extinction of the life of persons like Ranga and Billa who are a menace to social order and security\", and that \"they are professional murderers and deserve no sympathy even in terms of the evolving standards of decency of a mature society\". The petition is accordingly dismissed. We have heard Shri R. K. Jain as amicus on behalf of the accused Billa. We see no substance in Shri Jain 's contentions also. The order of stay of execution of the death sentence which we had passed in favour of the accused Ranga and Billa as also the general order of stay are hereby vacated If in any specific case or cases there is an express order of stay, it will not be affected by the order which we are passing today. S.R. Petition dismissed.\t\n",
    "Dismissing the petition, the Court ^ HELD: 1. Whatever be the guidelines observed for the exercise of the power conferred by Article 72 of the Constitution. the only sentence which can, possibly be imposed upon the petitioner in The instant case, is that of death and no circumstances exist for interference with that sentence. Not even tho most liberal use of his mercy jurisdiction could have persuaded tho \n",
    "\"\"\"\n",
    "summary = summarize(text)\n",
    "print(\"Summary:\", summary)"
   ]
  },
  {
   "cell_type": "code",
   "execution_count": 4,
   "metadata": {},
   "outputs": [
    {
     "name": "stdout",
     "output_type": "stream",
     "text": [
      "582\n"
     ]
    }
   ],
   "source": [
    "print(len('''\n",
    "The President has the power in an appropriate case to commute any sentence imposed by a court into a lesser sentence. The question as to whether the case is appropriate for the exercise of the power conferred by article 72 depends upon the facts and circumstances of each particular case. The necessity or the justification for exercising that power has therefore to be judged from case to case. We do not see what useful purpose will be achieved by the petitioner by ensuring the imposition of any severe, judicially evolved constraints on the sentence of death imposed upon him.\n",
    "'''))"
   ]
  },
  {
   "cell_type": "code",
   "execution_count": null,
   "metadata": {},
   "outputs": [],
   "source": []
  }
 ],
 "metadata": {
  "kernelspec": {
   "display_name": "Python 3",
   "language": "python",
   "name": "python3"
  },
  "language_info": {
   "codemirror_mode": {
    "name": "ipython",
    "version": 3
   },
   "file_extension": ".py",
   "mimetype": "text/x-python",
   "name": "python",
   "nbconvert_exporter": "python",
   "pygments_lexer": "ipython3",
   "version": "3.9.13"
  }
 },
 "nbformat": 4,
 "nbformat_minor": 2
}
